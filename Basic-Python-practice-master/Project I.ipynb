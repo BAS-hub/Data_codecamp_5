{
 "cells": [
  {
   "cell_type": "code",
   "execution_count": 1,
   "metadata": {},
   "outputs": [
    {
     "name": "stdout",
     "output_type": "stream",
     "text": [
      "Please input the number : 5\n",
      "<class 'int'>\n",
      "Number recently summary :  5\n",
      "Order :  1\n",
      "Please input the number : 2\n",
      "<class 'int'>\n",
      "Number recently summary :  7\n",
      "Order :  2\n",
      "Please input the number : 3\n",
      "<class 'int'>\n",
      "Number recently summary :  10\n",
      "Order :  3\n",
      "Please input the number : 5.555\n",
      "<class 'float'>\n",
      "Number recently summary :  15.555\n",
      "Order :  4\n",
      "Please input the number : 0\n",
      "<class 'int'>\n",
      "Number recently summary :  15.555\n",
      "Order :  5\n",
      "Please input the number : 0.0\n",
      "<class 'float'>\n",
      "Average of 6 number data  = 2.59 \n",
      "Average multiply by number of data =  15.555\n"
     ]
    }
   ],
   "source": [
    "## Project Part1.1 ##\n",
    "import numpy as np\n",
    "import pandas as pd\n",
    "from ast import literal_eval\n",
    "\n",
    "Sum = 0\n",
    "num= 0\n",
    "i=0\n",
    "Average=0\n",
    "\n",
    "def get_type(input_data):\n",
    "    try:\n",
    "        return type(literal_eval(input_data))\n",
    "    except (ValueError, SyntaxError):\n",
    "        # A string, so return str\n",
    "        return str\n",
    "def convert_type(inPut):\n",
    "    if get_type(inPut) is int :\n",
    "        return  int(inPut)\n",
    "    elif  get_type(inPut) is float :\n",
    "        if float(inPut) == 0.0 :\n",
    "            return str(inPut)\n",
    "        else :\n",
    "            return float(inPut)\n",
    "    else :\n",
    "        return str  \n",
    "while num != '0.0' :\n",
    "    i+=1\n",
    "    num = input('Please input the number : ')\n",
    "    print(get_type(num))\n",
    "    num = convert_type(num)\n",
    "    if num == '0.0' :\n",
    "        continue\n",
    "    Sum += num\n",
    "    print(\"Number recently summary : \",Sum)\n",
    "    print('Order : ',i)\n",
    "Average = (Sum/i)\n",
    "print('Average of {0} number data  = {1:.2f} '.format(i,Average))\n",
    "print('Average multiply by number of data = ',i*Average)"
   ]
  },
  {
   "cell_type": "code",
   "execution_count": null,
   "metadata": {},
   "outputs": [],
   "source": [
    "## Part1.2 ##\n",
    "import numpy as np\n",
    "import pandas as pd\n",
    "\n",
    "def test(num1):\n",
    "    rd = 0\n",
    "    pas =0\n",
    "    if num1 == 1 or num1==-1:\n",
    "        pas=1\n",
    "    elif pas==0 : \n",
    "        for x in num_divide :\n",
    "            if num1%x != 0 :\n",
    "                rd+=1\n",
    "            else :\n",
    "                if num1 in num_divide :\n",
    "                    return number.append(num1)\n",
    "                else :\n",
    "                    continue\n",
    "            if rd == 4:\n",
    "                return number.append(num1)\n",
    "\n",
    "\n",
    "number = []\n",
    "num_divide = [2,3,5,7]\n",
    "up = int(input('Please upper boundary : '))\n",
    "down = int(input('Please lower boundary : '))\n",
    "space = up - down\n",
    "np.di=[down+i for i in range(space+1)]\n",
    "for i in np.di :\n",
    "    test(i)\n",
    "number"
   ]
  },
  {
   "cell_type": "code",
   "execution_count": null,
   "metadata": {},
   "outputs": [],
   "source": []
  }
 ],
 "metadata": {
  "kernelspec": {
   "display_name": "Python 3",
   "language": "python",
   "name": "python3"
  },
  "language_info": {
   "codemirror_mode": {
    "name": "ipython",
    "version": 3
   },
   "file_extension": ".py",
   "mimetype": "text/x-python",
   "name": "python",
   "nbconvert_exporter": "python",
   "pygments_lexer": "ipython3",
   "version": "3.7.6"
  }
 },
 "nbformat": 4,
 "nbformat_minor": 4
}
