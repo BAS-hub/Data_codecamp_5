{
 "cells": [
  {
   "cell_type": "code",
   "execution_count": 1,
   "metadata": {},
   "outputs": [
    {
     "name": "stdout",
     "output_type": "stream",
     "text": [
      "dddddddddddddddddddddddddddddddddddddddddddddddddddddddddddddddddddddddddddddddddddddddddddddddddddddddddddddddddddddd          ddddddddddddddddddddddddddddddddddddddddddddddd\n"
     ]
    }
   ],
   "source": [
    "##การคั่นบรรทัดกรณีคำพูดหรือคำสั่งยาวเกินไป โดยใช้ \\ เเละ \"\"\"\"\"\"(triple cote)\n",
    "print (\"dddddddddddddddddddddddddddddddddddddddddddddddd\\\n",
    "dddddddddddddddddddddddddddddddddddddddddddddddddddddddddddddddddddddd\\\n",
    "          ddddddddddddddddddddddddddddddddddddddddddddddd\")"
   ]
  },
  {
   "cell_type": "code",
   "execution_count": 2,
   "metadata": {},
   "outputs": [
    {
     "name": "stdout",
     "output_type": "stream",
     "text": [
      "1 2 3\n"
     ]
    }
   ],
   "source": [
    "##กรณีคำสั่งสองคำสั่งอยู่บรรทัดเดียวกันคั่นด้วย ;\n",
    "x=1; y=2; z=3\n",
    "print(x,y,z)"
   ]
  },
  {
   "cell_type": "code",
   "execution_count": null,
   "metadata": {},
   "outputs": [],
   "source": [
    "##การรับคำสั่ง *รับค่ามาเป็น str ต้องเเปลงเป็น int หรือ float เพื่อนำไปคำนวณ\n",
    "money =int(input (\"Type your salary : \"))\n",
    "Sum = money*12\n",
    "print(\"Your salary = \",Sum)"
   ]
  },
  {
   "cell_type": "code",
   "execution_count": 3,
   "metadata": {},
   "outputs": [
    {
     "name": "stdout",
     "output_type": "stream",
     "text": [
      "(1, 2, 3, 4)\n",
      "(1, 2, 3, 4, 'a', 'b', 'c', 'd')\n",
      "(2, 3, 4, 'a')\n"
     ]
    }
   ],
   "source": [
    "##Data structure Tuples = (เเก้ไขข้อมูลไม่ได้โดยตรง(append,remove,insert) รันได้เร็วกว่า list)\n",
    "tup1 = (1,2,3,4)\n",
    "tup2 = (\"a\",\"b\",\"c\",\"d\")\n",
    "tup3 = ()\n",
    "tup3 = tup1 + tup2\n",
    "type(tup1)\n",
    "print(tup1)\n",
    "print(tup3)\n",
    "print(tup3[1:5])"
   ]
  },
  {
   "cell_type": "code",
   "execution_count": 4,
   "metadata": {},
   "outputs": [
    {
     "name": "stdout",
     "output_type": "stream",
     "text": [
      "{1: 100, 'a': 200, 3: 300, 4: 500}\n",
      "100 200\n",
      "{1: 100, 'a': 200, 3: 300, 4: 500, 'c': 250}\n",
      "{1: 100, 3: 300, 4: 500, 'c': 250}\n",
      "{59110001: ['A', 'B', 'C', 'A'], 59110002: ['A+', 'B', 'C+', 'A']}\n",
      "['A', 'B', 'C', 'A']\n",
      "['A+', 'B', 'C+', 'A']\n"
     ]
    }
   ],
   "source": [
    "##Data structure Dictionary = {จับคู่ key:vaule key เป็นเหมือน index ที่เเทนที่ตำเเหน่งของเเต่ละคู่ข้อมูล *key ต้องห้ามซ้ำ}\n",
    "dic1 = {1:100,\"a\":200,3:300,4:500}\n",
    "print(dic1)\n",
    "print(dic1[1],dic1[\"a\"])\n",
    "dic1[\"c\"] = 250\n",
    "print(dic1)\n",
    "del dic1[\"a\"]\n",
    "print(dic1)\n",
    "## Key = เลขเฉพาะ ไม่ควรซ้ำกัน , Value = List,Tuples หรือ Int Float Str\n",
    "dic_student  ={59110001:[\"A\",\"B\",\"C\",\"A\"],59110002:[\"A+\",\"B\",\"C+\",\"A\"]}\n",
    "print(dic_student)\n",
    "for i in dic_student :\n",
    "    print(dic_student[i])"
   ]
  },
  {
   "cell_type": "code",
   "execution_count": 5,
   "metadata": {},
   "outputs": [
    {
     "name": "stdout",
     "output_type": "stream",
     "text": [
      "{'Ferari', 'Toyota', 'Honda', 'Nissan'}\n",
      "{1, 2, 3, 4}\n",
      "{1, 2, 3, 4, 5}\n",
      "('Ferari', 'Toyota', 'Honda', 'Nissan')\n",
      "['Toyota', 'Honda', 'Nissan', 'Yamaha']\n",
      "Ferari\n",
      "Toyota\n",
      "Honda\n",
      "Nissan\n",
      "{'Ferari', 'Honda', 'Yamaha', 'Toyota', 'Nissan'}\n",
      "{'Honda', 'Toyota', 'Nissan'}\n",
      "{'Ferari'}\n"
     ]
    }
   ],
   "source": [
    "## Data structure Set = {Union Intersect ได้ สมาชิกซ้ำจะโดนรวบเป็นตัวเดียว เพิ่มสมาชิกได้ เเต่เเก้ไม่ได้เพราะไม่เรียง index set ว่างใช้ set()}\n",
    "set0 = set()\n",
    "type(set0)\n",
    "set1 = {\"Honda\" , \"Toyota\" , \"Nissan\"}\n",
    "set2 = {\"Honda\" , \"Toyota\" , \"Nissan\",\"Yamaha\"}\n",
    "lst1 = [1,2,3,4,1,1,1]\n",
    "tup1 = (1,2,3,4,5,1,1)\n",
    "set1.add('Ferari')\n",
    "print(set1)\n",
    "print(set(lst1))\n",
    "print(set(tup1))\n",
    "print(tuple(set1))\n",
    "print(list(set2))\n",
    "for i in set1 :\n",
    "    print(i)\n",
    "print(set1 | set2) ## Union\n",
    "print(set1 & set2) ##Intersect\n",
    "print(set1 - set2) ## Compliment"
   ]
  },
  {
   "cell_type": "code",
   "execution_count": 2,
   "metadata": {},
   "outputs": [
    {
     "name": "stdout",
     "output_type": "stream",
     "text": [
      "3\n",
      "False\n",
      "True\n",
      "False\n",
      "True\n",
      "False\n",
      "True\n",
      "False\n"
     ]
    }
   ],
   "source": [
    "##Operation ใน python ค่าอื่นๆนอกเหนือ 0,{} มีค่าความจริงเป็น True\n",
    "a=1\n",
    "a+=2\n",
    "print(a)\n",
    "x=0\n",
    "b=1\n",
    "c= {}\n",
    "print(bool(x)); print(bool(a)); print(bool(c));\n",
    "## Membership operation\n",
    "lst = [1,2,3,4]\n",
    "print(a in lst);  print(x in lst);\n",
    "## Identity operation เปรียบเทียบ str ได้\n",
    "print(a is 3); print(a is b)\n"
   ]
  },
  {
   "cell_type": "code",
   "execution_count": 1,
   "metadata": {},
   "outputs": [
    {
     "name": "stdout",
     "output_type": "stream",
     "text": [
      "0\n",
      "1\n",
      "2\n",
      "3\n",
      "4\n",
      "5\n"
     ]
    }
   ],
   "source": [
    "## Loop,Repetition\n",
    "count = 0\n",
    "re = 0\n",
    "while count <=5 :\n",
    "    print(count)\n",
    "    count += 1"
   ]
  },
  {
   "cell_type": "code",
   "execution_count": 7,
   "metadata": {},
   "outputs": [
    {
     "name": "stdout",
     "output_type": "stream",
     "text": [
      "1\n",
      "Please Input zero : 0\n",
      "Exit loop1 ^w^\n",
      "0\n",
      "Please Input Exit  : Exit\n",
      "Exit loop2 ^w^\n"
     ]
    }
   ],
   "source": [
    "count = 1\n",
    "while count != 0 :\n",
    "    print(count)\n",
    "    count = int(input(\"Please Input zero : \"))\n",
    "print(\"Exit loop1 ^w^\")\n",
    "while count != \"Exit\" :\n",
    "    print(count)\n",
    "    count = input(\"Please Input Exit  : \")\n",
    "print(\"Exit loop2 ^w^\")"
   ]
  },
  {
   "cell_type": "code",
   "execution_count": 15,
   "metadata": {},
   "outputs": [
    {
     "name": "stdout",
     "output_type": "stream",
     "text": [
      "1\n",
      "2\n",
      "3\n",
      "4\n",
      "5\n",
      "K\n",
      "E\n",
      "Y\n",
      "M\n",
      "A\n",
      "N\n",
      "0\n",
      "1\n",
      "2\n",
      "3\n",
      "4\n",
      "5\n",
      "6\n",
      "7\n",
      "8\n",
      "9\n"
     ]
    }
   ],
   "source": [
    "for i in [1,2,3,4,5] :\n",
    "    print(i)\n",
    "for i in \"KEYMAN\" :\n",
    "    print(i)\n",
    "for i in range(10) : ## range(A,B) = [A,A+1,A+2,..B-1] \n",
    "    print(i)"
   ]
  },
  {
   "cell_type": "code",
   "execution_count": 20,
   "metadata": {},
   "outputs": [
    {
     "name": "stdout",
     "output_type": "stream",
     "text": [
      "H\n",
      "e\n",
      "l\n",
      "l\n",
      "o\n"
     ]
    }
   ],
   "source": [
    "for i in \"Hello world\":\n",
    "    if i ==\" \":\n",
    "        break ##หยุด loop\n",
    "    print(i)"
   ]
  },
  {
   "cell_type": "code",
   "execution_count": 22,
   "metadata": {},
   "outputs": [
    {
     "name": "stdout",
     "output_type": "stream",
     "text": [
      "H\n",
      "e\n",
      "l\n",
      "l\n",
      "o\n",
      " \n",
      "o\n",
      "r\n",
      "l\n",
      "d\n"
     ]
    }
   ],
   "source": [
    "for i in \"Hello world\":\n",
    "    if i ==\"w\":\n",
    "        continue ## ข้ามค่าปัจจุบันเเล้วเริ่มทำค่าต่อไปใหม่\n",
    "    print(i)"
   ]
  },
  {
   "cell_type": "code",
   "execution_count": 24,
   "metadata": {},
   "outputs": [
    {
     "name": "stdout",
     "output_type": "stream",
     "text": [
      "H\n",
      "e\n",
      "l\n",
      "l\n",
      "o\n",
      " \n",
      "w\n",
      "o\n",
      "r\n",
      "l\n",
      "d\n"
     ]
    }
   ],
   "source": [
    "for i in \"Hello world\":\n",
    "    if i ==\"w\":\n",
    "        pass ## ชี้เป้า\n",
    "    print(i)"
   ]
  },
  {
   "cell_type": "code",
   "execution_count": 28,
   "metadata": {},
   "outputs": [
    {
     "name": "stdout",
     "output_type": "stream",
     "text": [
      "[1, 2, 3]\n",
      "[4, 5, 6]\n",
      "[7, 8, 9]\n",
      "1\n",
      "2\n",
      "3\n",
      "4\n",
      "5\n",
      "6\n",
      "7\n",
      "8\n",
      "9\n"
     ]
    }
   ],
   "source": [
    "##Nested loops\n",
    "lst = [[1,2,3],[4,5,6],[7,8,9]]\n",
    "for x in lst:\n",
    "    print (x)\n",
    "for i in lst:\n",
    "    for x in i:\n",
    "        print (x)"
   ]
  }
 ],
 "metadata": {
  "kernelspec": {
   "display_name": "Python 3",
   "language": "python",
   "name": "python3"
  },
  "language_info": {
   "codemirror_mode": {
    "name": "ipython",
    "version": 3
   },
   "file_extension": ".py",
   "mimetype": "text/x-python",
   "name": "python",
   "nbconvert_exporter": "python",
   "pygments_lexer": "ipython3",
   "version": "3.7.6"
  }
 },
 "nbformat": 4,
 "nbformat_minor": 2
}
