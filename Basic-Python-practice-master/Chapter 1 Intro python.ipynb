{
 "cells": [
  {
   "cell_type": "code",
   "execution_count": 13,
   "metadata": {},
   "outputs": [
    {
     "name": "stdout",
     "output_type": "stream",
     "text": [
      "9.0\n"
     ]
    }
   ],
   "source": [
    "##lambda\n",
    "cube = lambda x: x/3\n",
    "print (cube(27))"
   ]
  },
  {
   "cell_type": "code",
   "execution_count": 12,
   "metadata": {},
   "outputs": [
    {
     "name": "stdout",
     "output_type": "stream",
     "text": [
      "I am Bas\n"
     ]
    }
   ],
   "source": [
    "##format\n",
    "x = 'Bas'\n",
    "print ('I am {}'.format(x))"
   ]
  },
  {
   "cell_type": "code",
   "execution_count": 16,
   "metadata": {},
   "outputs": [
    {
     "name": "stdout",
     "output_type": "stream",
     "text": [
      "2.5\n"
     ]
    }
   ],
   "source": [
    "##Lambda\n",
    "bas = (lambda x,y,z,a : (x+y+z+a)/4)(1,2,3,4)\n",
    "print(bas)"
   ]
  },
  {
   "cell_type": "code",
   "execution_count": 21,
   "metadata": {},
   "outputs": [
    {
     "name": "stdout",
     "output_type": "stream",
     "text": [
      "2.5\n"
     ]
    }
   ],
   "source": [
    "##function\n",
    "def king (a,b,c,d) :\n",
    "    re = (a+b+c+d)/4\n",
    "    return re\n",
    "print (king(1,2,3,4))"
   ]
  },
  {
   "cell_type": "code",
   "execution_count": 28,
   "metadata": {},
   "outputs": [
    {
     "name": "stdout",
     "output_type": "stream",
     "text": [
      "['Bas', 1, 123, 'King Bae']\n",
      "['Bas', 1, 'D', 'King Bae']\n"
     ]
    }
   ],
   "source": [
    "lst = ['Bas',1,123,\"King Bae\"]\n",
    "print (lst)\n",
    "lst[2] = 'D'\n",
    "print (lst)"
   ]
  },
  {
   "cell_type": "code",
   "execution_count": 72,
   "metadata": {},
   "outputs": [
    {
     "name": "stdout",
     "output_type": "stream",
     "text": [
      "['Panu', 22]\n",
      "['Panu', 22, 7]\n",
      "['Panu', '5555', 22, 7]\n"
     ]
    }
   ],
   "source": [
    "##list structure\n",
    "lst = [\"Panu\",\"Pipittachan\",22]\n",
    "del lst[1]\n",
    "print(lst)\n",
    "lst.append(7)\n",
    "print(lst)\n",
    "lst.insert(1,\"5555\")\n",
    "print(lst)"
   ]
  },
  {
   "cell_type": "code",
   "execution_count": 76,
   "metadata": {},
   "outputs": [
    {
     "name": "stdout",
     "output_type": "stream",
     "text": [
      "[1, 8, 27, 64, 125, 216, 343, 512, 729, 1000]\n",
      "[1, 8, 27, 64, 125, 216, 343, 512, 729, 1000]\n",
      "[1, 8, 27, 64, 125, 216, 343, 512, 729, 1000]\n"
     ]
    }
   ],
   "source": [
    "##Map สามารถใส่ค่า list ในฟังก์ชั่นได้ \n",
    "def x_3 (x) :\n",
    "    re = x**3\n",
    "    return re\n",
    "lst = [1,2,3,4,5,6,7,8,9,10]\n",
    "print(list(map(x_3,lst)))\n",
    "result = map(x_3,lst)\n",
    "result2 = map(lambda x :x**3 ,lst)\n",
    "print(list(result))\n",
    "print(list(result2))"
   ]
  },
  {
   "cell_type": "code",
   "execution_count": 64,
   "metadata": {},
   "outputs": [
    {
     "name": "stdout",
     "output_type": "stream",
     "text": [
      "[1, 9, 25, 49, 81]\n"
     ]
    }
   ],
   "source": [
    "##Filter ตัวกรองข้อมูลใน list\n",
    "def x_3 (x) :\n",
    "    re = x**2\n",
    "    return re\n",
    "lst = [1,2,3,4,5,6,7,8,9,10]\n",
    "result2 = map(lambda x :x**2 ,lst)\n",
    "result3 = filter(lambda x : (x%2 != 0) ,result2)\n",
    "print (list(result3))"
   ]
  },
  {
   "cell_type": "code",
   "execution_count": 73,
   "metadata": {},
   "outputs": [
    {
     "name": "stdout",
     "output_type": "stream",
     "text": [
      "[1, 9, 25, 49, 81]\n",
      "[1, 4, 9, 16, 25, 36, 49, 64, 81, 100]\n"
     ]
    }
   ],
   "source": [
    "##List comprehension\n",
    "lst = [1,2,3,4,5,6,7,8,9,10]\n",
    "lst2 = [x**2 for x in lst if x%2 == 1]\n",
    "lst3 = [x**2 for x in lst]  \n",
    "print(lst2)\n",
    "print(lst3)"
   ]
  },
  {
   "cell_type": "code",
   "execution_count": 79,
   "metadata": {},
   "outputs": [
    {
     "name": "stdout",
     "output_type": "stream",
     "text": [
      "[6, 8, 10, 12, 14]\n",
      "[(1, 'a'), (2, 'b'), (3, 'c'), (4, 'd'), (5, 'e')]\n"
     ]
    }
   ],
   "source": [
    "##Map (ส่ง list มากกว่า 1 เข้าฟังก์ชั่น ดำเนินการตาม index) เเละ Zip (จับคู่ index เดียวกันรวมกันเป็น list เดียว)\n",
    "num1 = [1,2,3,4,5]\n",
    "num2 = [5,6,7,8,9]\n",
    "num3 = [\"a\",\"b\",\"c\",\"d\",\"e\"]\n",
    "result = map(lambda x,y : x+y ,num1,num2)\n",
    "result2 = zip(num1,num3)\n",
    "print(list(result))\n",
    "print(list(result2))"
   ]
  },
  {
   "cell_type": "code",
   "execution_count": 83,
   "metadata": {},
   "outputs": [
    {
     "name": "stdout",
     "output_type": "stream",
     "text": [
      "15 -13 120\n"
     ]
    }
   ],
   "source": [
    "##reduce รวมค่า list เป็นค่าเดียว\n",
    "from functools import reduce\n",
    "result=reduce(lambda x,y : x+y ,[1,2,3,4,5])\n",
    "result2=reduce(lambda x,y : x-y ,[1,2,3,4,5])\n",
    "result3=reduce(lambda x,y : x*y ,[1,2,3,4,5])\n",
    "print(result,result2,result3)"
   ]
  }
 ],
 "metadata": {
  "kernelspec": {
   "display_name": "Python 3",
   "language": "python",
   "name": "python3"
  },
  "language_info": {
   "codemirror_mode": {
    "name": "ipython",
    "version": 3
   },
   "file_extension": ".py",
   "mimetype": "text/x-python",
   "name": "python",
   "nbconvert_exporter": "python",
   "pygments_lexer": "ipython3",
   "version": "3.7.6"
  }
 },
 "nbformat": 4,
 "nbformat_minor": 2
}
